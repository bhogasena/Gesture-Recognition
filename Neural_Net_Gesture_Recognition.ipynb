{
  "cells": [
    {
      "cell_type": "markdown",
      "metadata": {
        "id": "VuddeFurYDaA"
      },
      "source": [
        "# Gesture Recognition\n",
        "\n",
        "Build a Model to recognise five different gestures performed by the user.\n",
        "\n",
        "Thumbs up:  Increase the volume    \n",
        "Thumbs down: Decrease the volume    \n",
        "Left swipe: 'Jump' backwards 10 seconds     \n",
        "Right swipe: 'Jump' forward 10 seconds   \n",
        "Stop: Pause the movie "
      ]
    },
    {
      "cell_type": "code",
      "execution_count": 1,
      "metadata": {
        "id": "OShniopUYDaK"
      },
      "outputs": [],
      "source": [
        "import numpy as np\n",
        "import os\n",
        "from  skimage.transform import resize\n",
        "import datetime\n",
        "import matplotlib.pyplot as plt\n",
        "import matplotlib.image as mpimg\n",
        "import cv2\n"
      ]
    },
    {
      "cell_type": "markdown",
      "metadata": {
        "id": "E6hTa9xEYDaO"
      },
      "source": [
        "We set the random seed so that the results don't vary drastically."
      ]
    },
    {
      "cell_type": "code",
      "execution_count": 2,
      "metadata": {
        "id": "578yDKXXYDaR"
      },
      "outputs": [],
      "source": [
        "np.random.seed(30)\n",
        "import random as rn\n",
        "rn.seed(30)\n",
        "from keras import backend as K\n",
        "import tensorflow as tf\n",
        "tf.random.set_seed(30)"
      ]
    },
    {
      "cell_type": "markdown",
      "metadata": {
        "id": "mA4aVn7IYDaS"
      },
      "source": [
        "Get the datset from shared Google Drive and store in local storage"
      ]
    },
    {
      "cell_type": "code",
      "execution_count": 3,
      "metadata": {
        "colab": {
          "base_uri": "https://localhost:8080/",
          "height": 105
        },
        "id": "DxURgYL_OFZk",
        "outputId": "5efa5055-377f-4376-f1b1-4a1f484b70e3"
      },
      "outputs": [
        {
          "output_type": "stream",
          "name": "stderr",
          "text": [
            "Downloading...\n",
            "From: https://drive.google.com/uc?id=1ehyrYBQ5rbQQe6yL4XbLWe3FMvuVUGiL\n",
            "To: /content/dataset.zip\n",
            "100%|██████████| 1.71G/1.71G [00:08<00:00, 197MB/s]\n"
          ]
        },
        {
          "output_type": "execute_result",
          "data": {
            "text/plain": [
              "'dataset.zip'"
            ],
            "application/vnd.google.colaboratory.intrinsic+json": {
              "type": "string"
            }
          },
          "metadata": {},
          "execution_count": 3
        }
      ],
      "source": [
        "import gdown\n",
        "url = 'https://drive.google.com/uc?id=1ehyrYBQ5rbQQe6yL4XbLWe3FMvuVUGiL'\n",
        "output = 'dataset.zip'\n",
        "gdown.download(url, output, quiet=False)"
      ]
    },
    {
      "cell_type": "code",
      "execution_count": 4,
      "metadata": {
        "id": "oyifgyvmOnoc"
      },
      "outputs": [],
      "source": [
        "!unzip -qqo 'dataset.zip' "
      ]
    },
    {
      "cell_type": "code",
      "execution_count": 5,
      "metadata": {
        "id": "8DtMqV10YDaT"
      },
      "outputs": [],
      "source": [
        "train_doc = np.random.permutation(open('Project_data/train.csv').readlines())\n",
        "val_doc = np.random.permutation(open('Project_data/val.csv').readlines())\n"
      ]
    },
    {
      "cell_type": "markdown",
      "source": [
        "## Analysis of Video Frames for Image Idx\n",
        "\n",
        "Get the one folder for each class and plot the frames to Analyze for which image Indexes are most important and useful"
      ],
      "metadata": {
        "id": "GDfV7x1Sswgj"
      }
    },
    {
      "cell_type": "code",
      "execution_count": 6,
      "metadata": {
        "id": "6Se2ybV5_9co"
      },
      "outputs": [],
      "source": [
        "class_folders=[] #get one folder for eac class of gesture \n",
        "for i in range(5):\n",
        "  for folders in train_doc:\n",
        "    if folders.split(\";\")[2]==f'{i}\\n':\n",
        "      class_folders.append(folders.split(\";\")[0])\n",
        "      break\n"
      ]
    },
    {
      "cell_type": "code",
      "execution_count": 7,
      "metadata": {
        "id": "61i3PXct9DLe"
      },
      "outputs": [],
      "source": [
        "# fig, axes = plt.subplots(30,5,sharex=True,sharey=True,figsize=(20,50),dpi=50)\n",
        "# for class_id, each_uniue_folder in enumerate(class_folders):\n",
        "#   images = os.listdir(f'Project_data/train/{each_uniue_folder}')\n",
        "#   images=sorted(images)\n",
        "#   for id,image in enumerate(images):\n",
        "#     img = mpimg.imread(f'Project_data/train/{each_uniue_folder}/{image}')\n",
        "#     axes[id,class_id].imshow(img)\n",
        "# fig.show()\n"
      ]
    },
    {
      "cell_type": "markdown",
      "source": [
        "### Observations\n",
        "\n",
        "As per above images, we can see there is very slight changes in movement of hands from one frame to next frame.\n",
        "\n",
        "We will will take one frame for evry 4 consecutive ones."
      ],
      "metadata": {
        "id": "NihBmYSv7x_R"
      }
    },
    {
      "cell_type": "markdown",
      "metadata": {
        "id": "Uody1BLOYDaV"
      },
      "source": [
        "## Generator\n",
        "This is one of the most important part of the code. The overall structure of the generator has been given. In the generator, you are going to preprocess the images as you have images of 2 different dimensions as well as create a batch of video frames. You have to experiment with `img_idx`, `y`,`z` and normalization such that you get high accuracy."
      ]
    },
    {
      "cell_type": "code",
      "source": [
        "from google.colab.patches import cv2_imshow"
      ],
      "metadata": {
        "id": "FxFLoOWGSjkA"
      },
      "execution_count": 8,
      "outputs": []
    },
    {
      "cell_type": "code",
      "source": [
        "image = cv2.imread('/content/Project_data/train/WIN_20180907_15_35_09_Pro_Right Swipe_new/WIN_20180907_15_35_09_Pro_00012.png')\n",
        "cv2_imshow(image)\n"
      ],
      "metadata": {
        "colab": {
          "base_uri": "https://localhost:8080/",
          "height": 377
        },
        "id": "ymTmRVwUSJSa",
        "outputId": "54116f4a-1b71-4a42-b591-8335e7daf626"
      },
      "execution_count": 9,
      "outputs": [
        {
          "output_type": "display_data",
          "data": {
            "text/plain": [
              "<PIL.Image.Image image mode=RGB size=360x360 at 0x7F393B7BC510>"
            ],
            "image/png": "[encoded data removed]"
          },
          "metadata": {}
        }
      ]
    },
    {
      "cell_type": "code",
      "source": [
        "image.shape"
      ],
      "metadata": {
        "colab": {
          "base_uri": "https://localhost:8080/"
        },
        "id": "x7CKB1K1So3p",
        "outputId": "23703d14-1884-409a-e1f1-c8700e622410"
      },
      "execution_count": 10,
      "outputs": [
        {
          "output_type": "execute_result",
          "data": {
            "text/plain": [
              "(360, 360, 3)"
            ]
          },
          "metadata": {},
          "execution_count": 10
        }
      ]
    },
    {
      "cell_type": "code",
      "source": [
        "image = cv2.resize(image,(35,35))"
      ],
      "metadata": {
        "id": "xNd_f5CTSrNg"
      },
      "execution_count": 11,
      "outputs": []
    },
    {
      "cell_type": "code",
      "source": [
        "cv2_imshow(image)"
      ],
      "metadata": {
        "colab": {
          "base_uri": "https://localhost:8080/",
          "height": 52
        },
        "id": "GdA3_cx_Sw55",
        "outputId": "7a8364e8-8154-48df-a044-995c7fa7cd13"
      },
      "execution_count": 12,
      "outputs": [
        {
          "output_type": "display_data",
          "data": {
            "text/plain": [
              "<PIL.Image.Image image mode=RGB size=35x35 at 0x7F3937F06810>"
            ],
            "image/png": "[encoded data removed]"
          },
          "metadata": {}
        }
      ]
    },
    {
      "cell_type": "code",
      "source": [
        "no_of_frames =len( np.append(np.arange(0,30,step=4),29))"
      ],
      "metadata": {
        "id": "6e9dxvSsCmAn"
      },
      "execution_count": 13,
      "outputs": []
    },
    {
      "cell_type": "code",
      "execution_count": 14,
      "metadata": {
        "id": "plUIlKwpYDaW"
      },
      "outputs": [],
      "source": [
        "def generator(source_path, folder_list, batch_size, image_resize_dim, img_idx, sort='no'):\n",
        "    print( 'Source path = ', source_path, '; batch size =', batch_size)\n",
        "    img_idx = img_idx\n",
        "    x, y, z = len(img_idx), *image_resize_dim   \n",
        "    while True:\n",
        "        t = np.random.permutation(folder_list)\n",
        "        num_batches = int(np.ceil(len(folder_list)/batch_size))\n",
        "        for batch in range(num_batches): # we iterate over the number of batches\n",
        "            # create act_batch_size to handle the remaining data points in last batch if total data points is not multiple of batch size\n",
        "            if(batch == (num_batches-1)):\n",
        "              act_batch_size = len(folder_list) - (batch*batch_size)\n",
        "            else:\n",
        "              act_batch_size = batch_size\n",
        "            batch_data = np.zeros((act_batch_size,x,y,z,3)) # x is the number of images you use for each video, (y,z) is the final size of the input images and 3 is the number of channels RGB\n",
        "            batch_labels = np.zeros((act_batch_size,5)) # batch_labels is the one hot representation of the output\n",
        "            for folder in range(act_batch_size): # iterate over the batch_size\n",
        "                imgs = os.listdir(source_path+'/'+ t[folder + (batch*act_batch_size)].split(';')[0]) # read all the images in the folder\n",
        "                if(sort=='yes'):\n",
        "                  imgs = sorted(imgs)  # sort the images in folder for timewise sequence\n",
        "                for idx,item in enumerate(img_idx): #  Iterate iver the frames/images of a folder to read them in                      \n",
        "                    image = cv2.imread(source_path+'/'+ t[folder + (batch*act_batch_size)].strip().split(';')[0]+'/'+imgs[item]).astype(np.float32)\n",
        "                    \n",
        "                    #crop the images and resize them. Note that the images are of 2 different shape \n",
        "                    #and the conv3D will throw error if the inputs in a batch have different shapes\n",
        "                    image = cv2.resize(image, image_resize_dim)\n",
        "\n",
        "                    batch_data[folder,idx,:,:,0] = image[:,:,0]/255  #normalise and feed in the image\n",
        "                    batch_data[folder,idx,:,:,1] = image[:,:,1]/255  #normalise and feed in the image\n",
        "                    batch_data[folder,idx,:,:,2] = image[:,:,2]/255  #normalise and feed in the image\n",
        "                    \n",
        "                batch_labels[folder, int(t[folder + (batch*act_batch_size)].strip().split(';')[2])] = 1\n",
        "            yield batch_data, batch_labels #you yield the batch_data and the batch_labels, remember what does yield do\n"
      ]
    },
    {
      "cell_type": "markdown",
      "metadata": {
        "id": "8m13FXqyYDaZ"
      },
      "source": [
        "Note here that a video is represented above in the generator as (number of images, height, width, number of channels). Take this into consideration while creating the model architecture."
      ]
    },
    {
      "cell_type": "code",
      "execution_count": 15,
      "metadata": {
        "id": "7eLp3nxSYDaa",
        "colab": {
          "base_uri": "https://localhost:8080/"
        },
        "outputId": "7135cf1d-95a3-4c06-bad6-0e490e4393b3"
      },
      "outputs": [
        {
          "output_type": "stream",
          "name": "stdout",
          "text": [
            "# training sequences = 663\n",
            "# validation sequences = 100\n",
            "# epochs = 20\n"
          ]
        }
      ],
      "source": [
        "curr_dt_time = datetime.datetime.now()\n",
        "train_path = 'Project_data/train'\n",
        "val_path = 'Project_data/val'\n",
        "num_train_sequences = len(train_doc)\n",
        "print('# training sequences =', num_train_sequences)\n",
        "num_val_sequences = len(val_doc)\n",
        "print('# validation sequences =', num_val_sequences)\n",
        "num_epochs = 20\n",
        "print ('# epochs =', num_epochs)"
      ]
    },
    {
      "cell_type": "code",
      "source": [
        "print(len(np.append(np.arange(0,30,step=2),29)))"
      ],
      "metadata": {
        "id": "7KzHjh70zYIP",
        "outputId": "fa8efb35-ddac-4dfc-f1a9-25a410d3dd9b",
        "colab": {
          "base_uri": "https://localhost:8080/"
        }
      },
      "execution_count": 16,
      "outputs": [
        {
          "output_type": "stream",
          "name": "stdout",
          "text": [
            "16\n"
          ]
        }
      ]
    },
    {
      "cell_type": "markdown",
      "metadata": {
        "id": "2KpIr0r6YDab"
      },
      "source": [
        "## Model\n",
        "Here you make the model using different functionalities that Keras provides. Remember to use `Conv3D` and `MaxPooling3D` and not `Conv2D` and `Maxpooling2D` for a 3D convolution model. You would want to use `TimeDistributed` while building a Conv2D + RNN model. Also remember that the last layer is the softmax. Design the network in such a way that the model is able to give good accuracy on the least number of parameters so that it can fit in the memory of the webcam."
      ]
    },
    {
      "cell_type": "code",
      "execution_count": 17,
      "metadata": {
        "id": "ky3bxNihYDac"
      },
      "outputs": [],
      "source": [
        "from tensorflow.keras.models import Sequential, Model\n",
        "from tensorflow.keras.layers import Dense, GRU, Flatten, TimeDistributed, Flatten, BatchNormalization, Activation, SimpleRNN, LSTM\n",
        "from tensorflow.keras.layers import Conv3D, MaxPooling3D, Conv2D, Dropout\n",
        "from tensorflow.keras.callbacks import ModelCheckpoint, ReduceLROnPlateau\n",
        "from tensorflow.keras import optimizers\n",
        "from tensorflow.keras.applications.inception_resnet_v2 import InceptionResNetV2\n",
        "from tensorflow.keras.applications.resnet50 import ResNet50"
      ]
    },
    {
      "cell_type": "markdown",
      "source": [
        "Let us create the model checkpoints and Learning rate callbacks"
      ],
      "metadata": {
        "id": "botczyji8rzz"
      }
    },
    {
      "cell_type": "code",
      "execution_count": 18,
      "metadata": {
        "id": "E7-LVjGGYDai",
        "colab": {
          "base_uri": "https://localhost:8080/"
        },
        "outputId": "d79137bf-6c39-4b27-c084-9a27ca93077b"
      },
      "outputs": [
        {
          "output_type": "stream",
          "name": "stderr",
          "text": [
            "WARNING:tensorflow:`period` argument is deprecated. Please use `save_freq` to specify the frequency in number of batches seen.\n"
          ]
        }
      ],
      "source": [
        "model_name = 'model_init' + '_' + str(curr_dt_time).replace(' ','').replace(':','_') + '/'\n",
        "    \n",
        "if not os.path.exists(model_name):\n",
        "    os.mkdir(model_name)\n",
        "        \n",
        "filepath = model_name + 'model-{epoch:05d}-{loss:.5f}-{categorical_accuracy:.5f}-{val_loss:.5f}-{val_categorical_accuracy:.5f}.h5'\n",
        "\n",
        "checkpoint = ModelCheckpoint(filepath, monitor='val_loss', verbose=1, save_best_only=False, save_weights_only=False, mode='auto', period=1)\n"
      ]
    },
    {
      "cell_type": "markdown",
      "metadata": {
        "id": "DY5ZxFlGYDai"
      },
      "source": [
        "The `steps_per_epoch` and `validation_steps` are used by `fit_generator` to decide the number of next() calls it need to make."
      ]
    },
    {
      "cell_type": "code",
      "execution_count": 19,
      "metadata": {
        "id": "k0VkTj2YYDaj"
      },
      "outputs": [],
      "source": [
        "def get_steps_per_epoch(batch_size):\n",
        "  if (num_train_sequences%batch_size) == 0:\n",
        "      steps_per_epoch = int(num_train_sequences/batch_size)\n",
        "  else:\n",
        "      steps_per_epoch = (num_train_sequences//batch_size) + 1\n",
        "\n",
        "  if (num_val_sequences%batch_size) == 0:\n",
        "      validation_steps = int(num_val_sequences/batch_size)\n",
        "  else:\n",
        "      validation_steps = (num_val_sequences//batch_size) + 1\n",
        "  return steps_per_epoch, validation_steps"
      ]
    },
    {
      "cell_type": "markdown",
      "metadata": {
        "id": "oMnNXX56YDak"
      },
      "source": [
        "Let us now create the model. This will start training the model and with the help of the checkpoints, you'll be able to save the model at the end of each epoch."
      ]
    },
    {
      "cell_type": "markdown",
      "source": [
        "## Model 1: Conv3D - 100*100 - Batch Size 10"
      ],
      "metadata": {
        "id": "4rto0CF27D5J"
      }
    },
    {
      "cell_type": "code",
      "source": [
        "image_resize_dim=(100,100)\n",
        "batch_size = 10\n",
        "img_idx = np.append(np.arange(0,30,step=4),29) \n",
        "train_generator = generator(train_path, train_doc, batch_size,image_resize_dim, img_idx)\n",
        "val_generator = generator(val_path, val_doc, batch_size,image_resize_dim, img_idx)\n",
        "steps_per_epoch, validation_steps = get_steps_per_epoch(batch_size)\n",
        "\n",
        "\n",
        "model = Sequential()\n",
        "model.add(Conv3D(64, kernel_size=(3, 3, 3), activation='relu',  input_shape=(no_of_frames,*image_resize_dim,3)))\n",
        "model.add(Conv3D(64, kernel_size=(3, 3, 3), activation='relu'))\n",
        "# model.add(MaxPooling3D(pool_size=(2, 2, 2)))\n",
        "# model.add(BatchNormalization())\n",
        "\n",
        "\n",
        "model.add(Conv3D(128, kernel_size=(3, 3, 3), activation='relu'))\n",
        "model.add(MaxPooling3D(pool_size=(2, 2, 2)))\n",
        "# model.add(BatchNormalization())\n",
        "\n",
        "model.add(Dropout(0.1))\n",
        "\n",
        "model.add(Flatten())\n",
        "\n",
        "model.add(Dense(128, activation='relu'))\n",
        "model.add(Dropout(0.25))\n",
        "\n",
        "model.add(Dense(5, activation='softmax'))\n",
        "\n",
        "optimiser = optimizers.SGD() \n",
        "model.compile(optimizer=optimiser, loss='categorical_crossentropy', metrics=['categorical_accuracy'])\n",
        "print (model.summary())\n",
        "\n",
        "LR = ReduceLROnPlateau(monitor='val_loss', factor=0.2,\n",
        "                              patience= 2, min_lr=0.001)\n",
        "callbacks_list = [ LR]\n",
        "model.fit(train_generator, steps_per_epoch=steps_per_epoch, epochs=10, verbose=1, \n",
        "                    callbacks=callbacks_list, validation_data=val_generator, \n",
        "                      validation_steps=validation_steps, class_weight=None, workers=-1, initial_epoch=0)"
      ],
      "metadata": {
        "colab": {
          "base_uri": "https://localhost:8080/"
        },
        "id": "M_OzVV_W7Mhh",
        "outputId": "bc95ce44-ee6b-418c-d5ec-89b7f9ac5d8a"
      },
      "execution_count": 20,
      "outputs": [
        {
          "output_type": "stream",
          "name": "stdout",
          "text": [
            "Model: \"sequential\"\n",
            "_________________________________________________________________\n",
            " Layer (type)                Output Shape              Param #   \n",
            "=================================================================\n",
            " conv3d (Conv3D)             (None, 7, 98, 98, 64)     5248      \n",
            "                                                                 \n",
            " conv3d_1 (Conv3D)           (None, 5, 96, 96, 64)     110656    \n",
            "                                                                 \n",
            " conv3d_2 (Conv3D)           (None, 3, 94, 94, 128)    221312    \n",
            "                                                                 \n",
            " max_pooling3d (MaxPooling3D  (None, 1, 47, 47, 128)   0         \n",
            " )                                                               \n",
            "                                                                 \n",
            " dropout (Dropout)           (None, 1, 47, 47, 128)    0         \n",
            "                                                                 \n",
            " flatten (Flatten)           (None, 282752)            0         \n",
            "                                                                 \n",
            " dense (Dense)               (None, 128)               36192384  \n",
            "                                                                 \n",
            " dropout_1 (Dropout)         (None, 128)               0         \n",
            "                                                                 \n",
            " dense_1 (Dense)             (None, 5)                 645       \n",
            "                                                                 \n",
            "=================================================================\n",
            "Total params: 36,530,245\n",
            "Trainable params: 36,530,245\n",
            "Non-trainable params: 0\n",
            "_________________________________________________________________\n",
            "None\n",
            "Source path =  Project_data/train ; batch size = 10\n",
            "Epoch 1/10\n",
            "67/67 [==============================] - ETA: 0s - loss: 1.5989 - categorical_accuracy: 0.2262Source path =  Project_data/val ; batch size = 10\n",
            "67/67 [==============================] - 43s 488ms/step - loss: 1.5989 - categorical_accuracy: 0.2262 - val_loss: 1.5689 - val_categorical_accuracy: 0.2300 - lr: 0.0100\n",
            "Epoch 2/10\n",
            "67/67 [==============================] - 31s 463ms/step - loss: 1.5491 - categorical_accuracy: 0.2640 - val_loss: 1.5187 - val_categorical_accuracy: 0.2700 - lr: 0.0100\n",
            "Epoch 3/10\n",
            "67/67 [==============================] - 31s 469ms/step - loss: 1.4265 - categorical_accuracy: 0.4223 - val_loss: 1.4127 - val_categorical_accuracy: 0.3700 - lr: 0.0100\n",
            "Epoch 4/10\n",
            "67/67 [==============================] - 31s 467ms/step - loss: 1.3025 - categorical_accuracy: 0.4751 - val_loss: 2.0486 - val_categorical_accuracy: 0.2700 - lr: 0.0100\n",
            "Epoch 5/10\n",
            "67/67 [==============================] - 32s 474ms/step - loss: 1.2165 - categorical_accuracy: 0.5596 - val_loss: 1.1824 - val_categorical_accuracy: 0.5800 - lr: 0.0100\n",
            "Epoch 6/10\n",
            "67/67 [==============================] - 31s 467ms/step - loss: 1.0383 - categorical_accuracy: 0.6003 - val_loss: 1.4103 - val_categorical_accuracy: 0.4200 - lr: 0.0100\n",
            "Epoch 7/10\n",
            "67/67 [==============================] - 32s 478ms/step - loss: 0.8864 - categorical_accuracy: 0.6863 - val_loss: 1.7125 - val_categorical_accuracy: 0.3800 - lr: 0.0100\n",
            "Epoch 8/10\n",
            "67/67 [==============================] - 32s 473ms/step - loss: 0.5554 - categorical_accuracy: 0.7964 - val_loss: 1.1654 - val_categorical_accuracy: 0.6000 - lr: 0.0020\n",
            "Epoch 9/10\n",
            "67/67 [==============================] - 33s 486ms/step - loss: 0.4330 - categorical_accuracy: 0.8567 - val_loss: 1.1735 - val_categorical_accuracy: 0.5900 - lr: 0.0020\n",
            "Epoch 10/10\n",
            "67/67 [==============================] - 33s 491ms/step - loss: 0.3419 - categorical_accuracy: 0.8793 - val_loss: 1.2514 - val_categorical_accuracy: 0.6000 - lr: 0.0020\n"
          ]
        },
        {
          "output_type": "execute_result",
          "data": {
            "text/plain": [
              "<keras.callbacks.History at 0x7f393d874110>"
            ]
          },
          "metadata": {},
          "execution_count": 20
        }
      ]
    },
    {
      "cell_type": "markdown",
      "source": [
        "## Model 2: Conv3D - - 100*100 - Batch Size 10 - with sort images in generator\n"
      ],
      "metadata": {
        "id": "pLbNkyyrKwgd"
      }
    },
    {
      "cell_type": "code",
      "source": [
        "image_resize_dim=(100,100)\n",
        "batch_size = 10\n",
        "img_idx = np.append(np.arange(0,30,step=4),29) \n",
        "train_generator = generator(train_path, train_doc, batch_size,image_resize_dim, img_idx, 'yes')\n",
        "val_generator = generator(val_path, val_doc, batch_size,image_resize_dim, img_idx,'yes')\n",
        "steps_per_epoch, validation_steps = get_steps_per_epoch(batch_size)\n",
        "\n",
        "\n",
        "model = Sequential()\n",
        "model.add(Conv3D(64, kernel_size=(3, 3, 3), activation='relu',  input_shape=(no_of_frames,*image_resize_dim,3)))\n",
        "model.add(Conv3D(64, kernel_size=(3, 3, 3), activation='relu'))\n",
        "# model.add(MaxPooling3D(pool_size=(2, 2, 2)))\n",
        "# model.add(BatchNormalization())\n",
        "\n",
        "\n",
        "model.add(Conv3D(128, kernel_size=(3, 3, 3), activation='relu'))\n",
        "model.add(MaxPooling3D(pool_size=(2, 2, 2)))\n",
        "# model.add(BatchNormalization())\n",
        "\n",
        "model.add(Dropout(0.1))\n",
        "\n",
        "model.add(Flatten())\n",
        "\n",
        "model.add(Dense(128, activation='relu'))\n",
        "model.add(Dropout(0.25))\n",
        "\n",
        "model.add(Dense(5, activation='softmax'))\n",
        "\n",
        "optimiser = optimizers.SGD() \n",
        "model.compile(optimizer=optimiser, loss='categorical_crossentropy', metrics=['categorical_accuracy'])\n",
        "print (model.summary())\n",
        "\n",
        "LR = ReduceLROnPlateau(monitor='val_loss', factor=0.2,\n",
        "                              patience= 2, min_lr=0.001)\n",
        "callbacks_list = [ LR]\n",
        "model.fit(train_generator, steps_per_epoch=steps_per_epoch, epochs=10, verbose=1, \n",
        "                    callbacks=callbacks_list, validation_data=val_generator, \n",
        "                      validation_steps=validation_steps, class_weight=None, workers=-1, initial_epoch=0)"
      ],
      "metadata": {
        "colab": {
          "base_uri": "https://localhost:8080/"
        },
        "id": "BEe57SETKzbm",
        "outputId": "9baf780e-4b0b-455e-a131-47d19d1fd8af"
      },
      "execution_count": 21,
      "outputs": [
        {
          "output_type": "stream",
          "name": "stdout",
          "text": [
            "Model: \"sequential_1\"\n",
            "_________________________________________________________________\n",
            " Layer (type)                Output Shape              Param #   \n",
            "=================================================================\n",
            " conv3d_3 (Conv3D)           (None, 7, 98, 98, 64)     5248      \n",
            "                                                                 \n",
            " conv3d_4 (Conv3D)           (None, 5, 96, 96, 64)     110656    \n",
            "                                                                 \n",
            " conv3d_5 (Conv3D)           (None, 3, 94, 94, 128)    221312    \n",
            "                                                                 \n",
            " max_pooling3d_1 (MaxPooling  (None, 1, 47, 47, 128)   0         \n",
            " 3D)                                                             \n",
            "                                                                 \n",
            " dropout_2 (Dropout)         (None, 1, 47, 47, 128)    0         \n",
            "                                                                 \n",
            " flatten_1 (Flatten)         (None, 282752)            0         \n",
            "                                                                 \n",
            " dense_2 (Dense)             (None, 128)               36192384  \n",
            "                                                                 \n",
            " dropout_3 (Dropout)         (None, 128)               0         \n",
            "                                                                 \n",
            " dense_3 (Dense)             (None, 5)                 645       \n",
            "                                                                 \n",
            "=================================================================\n",
            "Total params: 36,530,245\n",
            "Trainable params: 36,530,245\n",
            "Non-trainable params: 0\n",
            "_________________________________________________________________\n",
            "None\n",
            "Source path =  Project_data/train ; batch size = 10\n",
            "Epoch 1/10\n",
            "67/67 [==============================] - ETA: 0s - loss: 1.5936 - categorical_accuracy: 0.2051Source path =  Project_data/val ; batch size = 10\n",
            "67/67 [==============================] - 34s 498ms/step - loss: 1.5936 - categorical_accuracy: 0.2051 - val_loss: 1.5407 - val_categorical_accuracy: 0.2300 - lr: 0.0100\n",
            "Epoch 2/10\n",
            "67/67 [==============================] - 33s 492ms/step - loss: 1.4567 - categorical_accuracy: 0.3801 - val_loss: 1.7493 - val_categorical_accuracy: 0.2700 - lr: 0.0100\n",
            "Epoch 3/10\n",
            "67/67 [==============================] - 33s 496ms/step - loss: 1.1957 - categorical_accuracy: 0.5339 - val_loss: 1.2414 - val_categorical_accuracy: 0.5200 - lr: 0.0100\n",
            "Epoch 4/10\n",
            "67/67 [==============================] - 33s 488ms/step - loss: 0.9575 - categorical_accuracy: 0.6456 - val_loss: 1.1856 - val_categorical_accuracy: 0.5400 - lr: 0.0100\n",
            "Epoch 5/10\n",
            "67/67 [==============================] - 33s 488ms/step - loss: 0.6972 - categorical_accuracy: 0.7677 - val_loss: 0.9311 - val_categorical_accuracy: 0.6600 - lr: 0.0100\n",
            "Epoch 6/10\n",
            "67/67 [==============================] - 32s 480ms/step - loss: 0.5115 - categorical_accuracy: 0.8265 - val_loss: 0.6501 - val_categorical_accuracy: 0.7600 - lr: 0.0100\n",
            "Epoch 7/10\n",
            "67/67 [==============================] - 32s 485ms/step - loss: 0.3297 - categorical_accuracy: 0.8869 - val_loss: 0.5551 - val_categorical_accuracy: 0.7900 - lr: 0.0100\n",
            "Epoch 8/10\n",
            "67/67 [==============================] - 33s 488ms/step - loss: 0.1649 - categorical_accuracy: 0.9487 - val_loss: 0.4504 - val_categorical_accuracy: 0.8400 - lr: 0.0100\n",
            "Epoch 9/10\n",
            "67/67 [==============================] - 32s 477ms/step - loss: 0.0918 - categorical_accuracy: 0.9759 - val_loss: 0.9594 - val_categorical_accuracy: 0.7700 - lr: 0.0100\n",
            "Epoch 10/10\n",
            "67/67 [==============================] - 32s 481ms/step - loss: 0.0690 - categorical_accuracy: 0.9804 - val_loss: 0.6892 - val_categorical_accuracy: 0.7900 - lr: 0.0100\n"
          ]
        },
        {
          "output_type": "execute_result",
          "data": {
            "text/plain": [
              "<keras.callbacks.History at 0x7f38d22a43d0>"
            ]
          },
          "metadata": {},
          "execution_count": 21
        }
      ]
    },
    {
      "cell_type": "markdown",
      "source": [
        "## Model 3: Conv3D - - 100*100 - Batch Size 50 - with sort images in generator"
      ],
      "metadata": {
        "id": "X2XMSLd6MLeP"
      }
    },
    {
      "cell_type": "code",
      "source": [
        "image_resize_dim=(100,100)\n",
        "batch_size = 50\n",
        "img_idx = np.append(np.arange(0,30,step=4),29) \n",
        "train_generator = generator(train_path, train_doc, batch_size,image_resize_dim, img_idx, 'yes')\n",
        "val_generator = generator(val_path, val_doc, batch_size,image_resize_dim, img_idx,'yes')\n",
        "steps_per_epoch, validation_steps = get_steps_per_epoch(batch_size)\n",
        "\n",
        "\n",
        "model = Sequential()\n",
        "model.add(Conv3D(64, kernel_size=(3, 3, 3), activation='relu',  input_shape=(no_of_frames,*image_resize_dim,3)))\n",
        "model.add(Conv3D(64, kernel_size=(3, 3, 3), activation='relu'))\n",
        "# model.add(MaxPooling3D(pool_size=(2, 2, 2)))\n",
        "# model.add(BatchNormalization())\n",
        "\n",
        "\n",
        "model.add(Conv3D(128, kernel_size=(3, 3, 3), activation='relu'))\n",
        "model.add(MaxPooling3D(pool_size=(2, 2, 2)))\n",
        "# model.add(BatchNormalization())\n",
        "\n",
        "model.add(Dropout(0.1))\n",
        "\n",
        "model.add(Flatten())\n",
        "\n",
        "model.add(Dense(128, activation='relu'))\n",
        "model.add(Dropout(0.25))\n",
        "\n",
        "model.add(Dense(5, activation='softmax'))\n",
        "\n",
        "optimiser = optimizers.SGD() \n",
        "model.compile(optimizer=optimiser, loss='categorical_crossentropy', metrics=['categorical_accuracy'])\n",
        "print (model.summary())\n",
        "\n",
        "LR = ReduceLROnPlateau(monitor='val_loss', factor=0.2,\n",
        "                              patience= 2, min_lr=0.001)\n",
        "callbacks_list = [ LR]\n",
        "model.fit(train_generator, steps_per_epoch=steps_per_epoch, epochs=20, verbose=1, \n",
        "                    callbacks=callbacks_list, validation_data=val_generator, \n",
        "                      validation_steps=validation_steps, class_weight=None, workers=-1, initial_epoch=0)"
      ],
      "metadata": {
        "colab": {
          "base_uri": "https://localhost:8080/"
        },
        "id": "Gr7WE7_0Mi9A",
        "outputId": "d5d25619-b679-4a83-afc0-8fd50aca7c42"
      },
      "execution_count": 22,
      "outputs": [
        {
          "output_type": "stream",
          "name": "stdout",
          "text": [
            "Model: \"sequential_2\"\n",
            "_________________________________________________________________\n",
            " Layer (type)                Output Shape              Param #   \n",
            "=================================================================\n",
            " conv3d_6 (Conv3D)           (None, 7, 98, 98, 64)     5248      \n",
            "                                                                 \n",
            " conv3d_7 (Conv3D)           (None, 5, 96, 96, 64)     110656    \n",
            "                                                                 \n",
            " conv3d_8 (Conv3D)           (None, 3, 94, 94, 128)    221312    \n",
            "                                                                 \n",
            " max_pooling3d_2 (MaxPooling  (None, 1, 47, 47, 128)   0         \n",
            " 3D)                                                             \n",
            "                                                                 \n",
            " dropout_4 (Dropout)         (None, 1, 47, 47, 128)    0         \n",
            "                                                                 \n",
            " flatten_2 (Flatten)         (None, 282752)            0         \n",
            "                                                                 \n",
            " dense_4 (Dense)             (None, 128)               36192384  \n",
            "                                                                 \n",
            " dropout_5 (Dropout)         (None, 128)               0         \n",
            "                                                                 \n",
            " dense_5 (Dense)             (None, 5)                 645       \n",
            "                                                                 \n",
            "=================================================================\n",
            "Total params: 36,530,245\n",
            "Trainable params: 36,530,245\n",
            "Non-trainable params: 0\n",
            "_________________________________________________________________\n",
            "None\n",
            "Source path =  Project_data/train ; batch size = 50\n",
            "Epoch 1/20\n",
            "14/14 [==============================] - ETA: 0s - loss: 1.6004 - categorical_accuracy: 0.2323Source path =  Project_data/val ; batch size = 50\n",
            "14/14 [==============================] - 44s 3s/step - loss: 1.6004 - categorical_accuracy: 0.2323 - val_loss: 1.6106 - val_categorical_accuracy: 0.2200 - lr: 0.0100\n",
            "Epoch 2/20\n",
            "14/14 [==============================] - 32s 2s/step - loss: 1.5750 - categorical_accuracy: 0.2745 - val_loss: 1.5444 - val_categorical_accuracy: 0.2300 - lr: 0.0100\n",
            "Epoch 3/20\n",
            "14/14 [==============================] - 32s 2s/step - loss: 1.5288 - categorical_accuracy: 0.3152 - val_loss: 1.5163 - val_categorical_accuracy: 0.3500 - lr: 0.0100\n",
            "Epoch 4/20\n",
            "14/14 [==============================] - 32s 2s/step - loss: 1.4830 - categorical_accuracy: 0.3439 - val_loss: 1.6500 - val_categorical_accuracy: 0.2500 - lr: 0.0100\n",
            "Epoch 5/20\n",
            "14/14 [==============================] - 32s 2s/step - loss: 1.4880 - categorical_accuracy: 0.3620 - val_loss: 1.4618 - val_categorical_accuracy: 0.3100 - lr: 0.0100\n",
            "Epoch 6/20\n",
            "14/14 [==============================] - 33s 2s/step - loss: 1.3870 - categorical_accuracy: 0.4374 - val_loss: 1.4612 - val_categorical_accuracy: 0.4100 - lr: 0.0100\n",
            "Epoch 7/20\n",
            "14/14 [==============================] - 32s 2s/step - loss: 1.3364 - categorical_accuracy: 0.4630 - val_loss: 1.3334 - val_categorical_accuracy: 0.4900 - lr: 0.0100\n",
            "Epoch 8/20\n",
            "14/14 [==============================] - 33s 2s/step - loss: 1.2692 - categorical_accuracy: 0.5008 - val_loss: 1.4463 - val_categorical_accuracy: 0.5000 - lr: 0.0100\n",
            "Epoch 9/20\n",
            "14/14 [==============================] - 34s 2s/step - loss: 1.3124 - categorical_accuracy: 0.5038 - val_loss: 1.3370 - val_categorical_accuracy: 0.4400 - lr: 0.0100\n",
            "Epoch 10/20\n",
            "14/14 [==============================] - 33s 2s/step - loss: 1.1487 - categorical_accuracy: 0.5958 - val_loss: 1.2034 - val_categorical_accuracy: 0.5300 - lr: 0.0020\n",
            "Epoch 11/20\n",
            "14/14 [==============================] - 33s 2s/step - loss: 1.0486 - categorical_accuracy: 0.6048 - val_loss: 1.2075 - val_categorical_accuracy: 0.5300 - lr: 0.0020\n",
            "Epoch 12/20\n",
            "14/14 [==============================] - 32s 2s/step - loss: 1.0252 - categorical_accuracy: 0.6078 - val_loss: 1.1511 - val_categorical_accuracy: 0.5100 - lr: 0.0020\n",
            "Epoch 13/20\n",
            "14/14 [==============================] - 33s 2s/step - loss: 0.9691 - categorical_accuracy: 0.6501 - val_loss: 1.1719 - val_categorical_accuracy: 0.5600 - lr: 0.0020\n",
            "Epoch 14/20\n",
            "14/14 [==============================] - 32s 2s/step - loss: 0.9695 - categorical_accuracy: 0.6305 - val_loss: 1.1226 - val_categorical_accuracy: 0.5500 - lr: 0.0020\n",
            "Epoch 15/20\n",
            "14/14 [==============================] - 33s 2s/step - loss: 0.9253 - categorical_accuracy: 0.6501 - val_loss: 1.1524 - val_categorical_accuracy: 0.5800 - lr: 0.0020\n",
            "Epoch 16/20\n",
            "14/14 [==============================] - 34s 2s/step - loss: 0.8983 - categorical_accuracy: 0.6712 - val_loss: 1.1445 - val_categorical_accuracy: 0.5500 - lr: 0.0020\n",
            "Epoch 17/20\n",
            "14/14 [==============================] - 32s 2s/step - loss: 0.8873 - categorical_accuracy: 0.6742 - val_loss: 1.1162 - val_categorical_accuracy: 0.5700 - lr: 0.0010\n",
            "Epoch 18/20\n",
            "14/14 [==============================] - 32s 2s/step - loss: 0.8534 - categorical_accuracy: 0.6802 - val_loss: 1.1735 - val_categorical_accuracy: 0.5600 - lr: 0.0010\n",
            "Epoch 19/20\n",
            "14/14 [==============================] - 32s 2s/step - loss: 0.8315 - categorical_accuracy: 0.6998 - val_loss: 1.0333 - val_categorical_accuracy: 0.6200 - lr: 0.0010\n",
            "Epoch 20/20\n",
            "14/14 [==============================] - 32s 2s/step - loss: 0.8060 - categorical_accuracy: 0.7044 - val_loss: 1.0474 - val_categorical_accuracy: 0.5800 - lr: 0.0010\n"
          ]
        },
        {
          "output_type": "execute_result",
          "data": {
            "text/plain": [
              "<keras.callbacks.History at 0x7f38d21522d0>"
            ]
          },
          "metadata": {},
          "execution_count": 22
        }
      ]
    },
    {
      "cell_type": "markdown",
      "source": [
        "## Model 4: CNN- RNN Model using SimpleRNN\n"
      ],
      "metadata": {
        "id": "W9-Saa7B9CQn"
      }
    },
    {
      "cell_type": "code",
      "source": [
        "image_resize_dim=(100,100)\n",
        "batch_size = 10\n",
        "img_idx = np.append(np.arange(0,30,step=4),29) \n",
        "train_generator = generator(train_path, train_doc, batch_size,image_resize_dim, img_idx, 'yes')\n",
        "val_generator = generator(val_path, val_doc, batch_size,image_resize_dim, img_idx,'yes')\n",
        "steps_per_epoch, validation_steps = get_steps_per_epoch(batch_size)\n",
        "\n",
        "resnet = ResNet50(include_top=False,weights='imagenet',input_shape=(*image_resize_dim,3))\n",
        "cnn =Sequential([resnet])\n",
        "cnn.add(Conv2D(64,(2,2),strides=(1,1)))\n",
        "cnn.add(Flatten())\n",
        "rnn_model = Sequential()\n",
        "rnn_model.add(TimeDistributed(cnn,input_shape=(no_of_frames,*image_resize_dim,3)))\n",
        "rnn_model.add(SimpleRNN(32,return_sequences=True))\n",
        "rnn_model.add(SimpleRNN(32))\n",
        "rnn_model.add(Dense(5,activation='softmax'))\n",
        "optimiser = optimizers.SGD() \n",
        "LR = ReduceLROnPlateau(monitor='val_loss', factor=0.3,\n",
        "                            patience= 2, min_lr=0.002)\n",
        "rnn_model.compile(optimizer=optimiser, loss='categorical_crossentropy', metrics=['categorical_accuracy'])\n",
        "print (rnn_model.summary())\n",
        "\n",
        "rnn_model.fit(train_generator, steps_per_epoch=steps_per_epoch, epochs=20, verbose=1, \n",
        "                  callbacks=[ checkpoint,LR], validation_data=val_generator, \n",
        "                    validation_steps=validation_steps, class_weight=None, workers=1, initial_epoch=0)"
      ],
      "metadata": {
        "colab": {
          "base_uri": "https://localhost:8080/"
        },
        "id": "BGxpGocF83F7",
        "outputId": "96a8a8b5-1724-4591-fa3c-f39e41d2a9a5"
      },
      "execution_count": 26,
      "outputs": [
        {
          "output_type": "stream",
          "name": "stdout",
          "text": [
            "Model: \"sequential_10\"\n",
            "_________________________________________________________________\n",
            " Layer (type)                Output Shape              Param #   \n",
            "=================================================================\n",
            " time_distributed_3 (TimeDis  (None, 9, 576)           24112064  \n",
            " tributed)                                                       \n",
            "                                                                 \n",
            " simple_rnn_2 (SimpleRNN)    (None, 9, 32)             19488     \n",
            "                                                                 \n",
            " simple_rnn_3 (SimpleRNN)    (None, 32)                2080      \n",
            "                                                                 \n",
            " dense_9 (Dense)             (None, 5)                 165       \n",
            "                                                                 \n",
            "=================================================================\n",
            "Total params: 24,133,797\n",
            "Trainable params: 24,080,677\n",
            "Non-trainable params: 53,120\n",
            "_________________________________________________________________\n",
            "None\n",
            "Source path =  Project_data/train ; batch size = 10\n",
            "Epoch 1/20\n",
            "67/67 [==============================] - ETA: 0s - loss: 1.1973 - categorical_accuracy: 0.5535Source path =  Project_data/val ; batch size = 10\n",
            "\n",
            "Epoch 1: saving model to model_init_2022-11-1316_37_34.554833/model-00001-1.19725-0.55354-2.67803-0.22000.h5\n",
            "67/67 [==============================] - 36s 424ms/step - loss: 1.1973 - categorical_accuracy: 0.5535 - val_loss: 2.6780 - val_categorical_accuracy: 0.2200 - lr: 0.0100\n",
            "Epoch 2/20\n",
            "67/67 [==============================] - ETA: 0s - loss: 0.4819 - categorical_accuracy: 0.8673\n",
            "Epoch 2: saving model to model_init_2022-11-1316_37_34.554833/model-00002-0.48188-0.86727-1.93745-0.21000.h5\n",
            "67/67 [==============================] - 26s 382ms/step - loss: 0.4819 - categorical_accuracy: 0.8673 - val_loss: 1.9374 - val_categorical_accuracy: 0.2100 - lr: 0.0100\n",
            "Epoch 3/20\n",
            "67/67 [==============================] - ETA: 0s - loss: 0.2565 - categorical_accuracy: 0.9457\n",
            "Epoch 3: saving model to model_init_2022-11-1316_37_34.554833/model-00003-0.25648-0.94570-1.65552-0.25000.h5\n",
            "67/67 [==============================] - 26s 387ms/step - loss: 0.2565 - categorical_accuracy: 0.9457 - val_loss: 1.6555 - val_categorical_accuracy: 0.2500 - lr: 0.0100\n",
            "Epoch 4/20\n",
            "67/67 [==============================] - ETA: 0s - loss: 0.1244 - categorical_accuracy: 0.9804\n",
            "Epoch 4: saving model to model_init_2022-11-1316_37_34.554833/model-00004-0.12440-0.98039-1.94930-0.24000.h5\n",
            "67/67 [==============================] - 26s 384ms/step - loss: 0.1244 - categorical_accuracy: 0.9804 - val_loss: 1.9493 - val_categorical_accuracy: 0.2400 - lr: 0.0100\n",
            "Epoch 5/20\n",
            "67/67 [==============================] - ETA: 0s - loss: 0.0701 - categorical_accuracy: 0.9970\n",
            "Epoch 5: saving model to model_init_2022-11-1316_37_34.554833/model-00005-0.07008-0.99698-2.06892-0.31000.h5\n",
            "67/67 [==============================] - 26s 387ms/step - loss: 0.0701 - categorical_accuracy: 0.9970 - val_loss: 2.0689 - val_categorical_accuracy: 0.3100 - lr: 0.0100\n",
            "Epoch 6/20\n",
            "67/67 [==============================] - ETA: 0s - loss: 0.0561 - categorical_accuracy: 0.9925\n",
            "Epoch 6: saving model to model_init_2022-11-1316_37_34.554833/model-00006-0.05606-0.99246-1.74345-0.49000.h5\n",
            "67/67 [==============================] - 25s 381ms/step - loss: 0.0561 - categorical_accuracy: 0.9925 - val_loss: 1.7435 - val_categorical_accuracy: 0.4900 - lr: 0.0030\n",
            "Epoch 7/20\n",
            "67/67 [==============================] - ETA: 0s - loss: 0.0445 - categorical_accuracy: 1.0000\n",
            "Epoch 7: saving model to model_init_2022-11-1316_37_34.554833/model-00007-0.04450-1.00000-0.98975-0.69000.h5\n",
            "67/67 [==============================] - 26s 389ms/step - loss: 0.0445 - categorical_accuracy: 1.0000 - val_loss: 0.9898 - val_categorical_accuracy: 0.6900 - lr: 0.0030\n",
            "Epoch 8/20\n",
            "67/67 [==============================] - ETA: 0s - loss: 0.0400 - categorical_accuracy: 1.0000\n",
            "Epoch 8: saving model to model_init_2022-11-1316_37_34.554833/model-00008-0.03997-1.00000-0.47073-0.82000.h5\n",
            "67/67 [==============================] - 26s 385ms/step - loss: 0.0400 - categorical_accuracy: 1.0000 - val_loss: 0.4707 - val_categorical_accuracy: 0.8200 - lr: 0.0030\n",
            "Epoch 9/20\n",
            "67/67 [==============================] - ETA: 0s - loss: 0.0386 - categorical_accuracy: 0.9985\n",
            "Epoch 9: saving model to model_init_2022-11-1316_37_34.554833/model-00009-0.03865-0.99849-0.24246-0.91000.h5\n",
            "67/67 [==============================] - 26s 392ms/step - loss: 0.0386 - categorical_accuracy: 0.9985 - val_loss: 0.2425 - val_categorical_accuracy: 0.9100 - lr: 0.0030\n",
            "Epoch 10/20\n",
            "67/67 [==============================] - ETA: 0s - loss: 0.0340 - categorical_accuracy: 1.0000\n",
            "Epoch 10: saving model to model_init_2022-11-1316_37_34.554833/model-00010-0.03401-1.00000-0.12979-0.96000.h5\n",
            "67/67 [==============================] - 26s 385ms/step - loss: 0.0340 - categorical_accuracy: 1.0000 - val_loss: 0.1298 - val_categorical_accuracy: 0.9600 - lr: 0.0030\n",
            "Epoch 11/20\n",
            "67/67 [==============================] - ETA: 0s - loss: 0.0309 - categorical_accuracy: 1.0000\n",
            "Epoch 11: saving model to model_init_2022-11-1316_37_34.554833/model-00011-0.03095-1.00000-0.11929-0.96000.h5\n",
            "67/67 [==============================] - 26s 383ms/step - loss: 0.0309 - categorical_accuracy: 1.0000 - val_loss: 0.1193 - val_categorical_accuracy: 0.9600 - lr: 0.0030\n",
            "Epoch 12/20\n",
            "67/67 [==============================] - ETA: 0s - loss: 0.0350 - categorical_accuracy: 0.9985\n",
            "Epoch 12: saving model to model_init_2022-11-1316_37_34.554833/model-00012-0.03501-0.99849-0.11582-0.97000.h5\n",
            "67/67 [==============================] - 26s 389ms/step - loss: 0.0350 - categorical_accuracy: 0.9985 - val_loss: 0.1158 - val_categorical_accuracy: 0.9700 - lr: 0.0030\n",
            "Epoch 13/20\n",
            "67/67 [==============================] - ETA: 0s - loss: 0.0277 - categorical_accuracy: 1.0000\n",
            "Epoch 13: saving model to model_init_2022-11-1316_37_34.554833/model-00013-0.02767-1.00000-0.15129-0.94000.h5\n",
            "67/67 [==============================] - 26s 389ms/step - loss: 0.0277 - categorical_accuracy: 1.0000 - val_loss: 0.1513 - val_categorical_accuracy: 0.9400 - lr: 0.0030\n",
            "Epoch 14/20\n",
            "67/67 [==============================] - ETA: 0s - loss: 0.0274 - categorical_accuracy: 1.0000\n",
            "Epoch 14: saving model to model_init_2022-11-1316_37_34.554833/model-00014-0.02736-1.00000-0.07390-0.98000.h5\n",
            "67/67 [==============================] - 26s 388ms/step - loss: 0.0274 - categorical_accuracy: 1.0000 - val_loss: 0.0739 - val_categorical_accuracy: 0.9800 - lr: 0.0030\n",
            "Epoch 15/20\n",
            "67/67 [==============================] - ETA: 0s - loss: 0.0294 - categorical_accuracy: 0.9985\n",
            "Epoch 15: saving model to model_init_2022-11-1316_37_34.554833/model-00015-0.02940-0.99849-0.08989-0.98000.h5\n",
            "67/67 [==============================] - 26s 385ms/step - loss: 0.0294 - categorical_accuracy: 0.9985 - val_loss: 0.0899 - val_categorical_accuracy: 0.9800 - lr: 0.0030\n",
            "Epoch 16/20\n",
            "67/67 [==============================] - ETA: 0s - loss: 0.0314 - categorical_accuracy: 0.9985\n",
            "Epoch 16: saving model to model_init_2022-11-1316_37_34.554833/model-00016-0.03144-0.99849-0.18913-0.94000.h5\n",
            "67/67 [==============================] - 26s 388ms/step - loss: 0.0314 - categorical_accuracy: 0.9985 - val_loss: 0.1891 - val_categorical_accuracy: 0.9400 - lr: 0.0030\n",
            "Epoch 17/20\n",
            "67/67 [==============================] - ETA: 0s - loss: 0.0263 - categorical_accuracy: 1.0000\n",
            "Epoch 17: saving model to model_init_2022-11-1316_37_34.554833/model-00017-0.02634-1.00000-0.06684-1.00000.h5\n",
            "67/67 [==============================] - 26s 384ms/step - loss: 0.0263 - categorical_accuracy: 1.0000 - val_loss: 0.0668 - val_categorical_accuracy: 1.0000 - lr: 0.0020\n",
            "Epoch 18/20\n",
            "67/67 [==============================] - ETA: 0s - loss: 0.0252 - categorical_accuracy: 1.0000\n",
            "Epoch 18: saving model to model_init_2022-11-1316_37_34.554833/model-00018-0.02521-1.00000-0.15659-0.95000.h5\n",
            "67/67 [==============================] - 26s 389ms/step - loss: 0.0252 - categorical_accuracy: 1.0000 - val_loss: 0.1566 - val_categorical_accuracy: 0.9500 - lr: 0.0020\n",
            "Epoch 19/20\n",
            "67/67 [==============================] - ETA: 0s - loss: 0.0229 - categorical_accuracy: 1.0000\n",
            "Epoch 19: saving model to model_init_2022-11-1316_37_34.554833/model-00019-0.02290-1.00000-0.08325-0.99000.h5\n",
            "67/67 [==============================] - 25s 380ms/step - loss: 0.0229 - categorical_accuracy: 1.0000 - val_loss: 0.0832 - val_categorical_accuracy: 0.9900 - lr: 0.0020\n",
            "Epoch 20/20\n",
            "67/67 [==============================] - ETA: 0s - loss: 0.0224 - categorical_accuracy: 1.0000\n",
            "Epoch 20: saving model to model_init_2022-11-1316_37_34.554833/model-00020-0.02235-1.00000-0.08894-0.99000.h5\n",
            "67/67 [==============================] - 25s 380ms/step - loss: 0.0224 - categorical_accuracy: 1.0000 - val_loss: 0.0889 - val_categorical_accuracy: 0.9900 - lr: 0.0020\n"
          ]
        },
        {
          "output_type": "execute_result",
          "data": {
            "text/plain": [
              "<keras.callbacks.History at 0x7f38cab60f10>"
            ]
          },
          "metadata": {},
          "execution_count": 26
        }
      ]
    },
    {
      "cell_type": "markdown",
      "source": [
        "### Model 5 - LSTM"
      ],
      "metadata": {
        "id": "rutyUdyn5xSz"
      }
    },
    {
      "cell_type": "code",
      "source": [
        "image_resize_dim=(100,100)\n",
        "batch_size = 10\n",
        "img_idx = np.append(np.arange(0,30,step=4),29) \n",
        "train_generator = generator(train_path, train_doc, batch_size,image_resize_dim, img_idx, 'yes')\n",
        "val_generator = generator(val_path, val_doc, batch_size,image_resize_dim, img_idx,'yes')\n",
        "steps_per_epoch, validation_steps = get_steps_per_epoch(batch_size)\n",
        "\n",
        "resnet = ResNet50(include_top=False,weights='imagenet',input_shape=(*image_resize_dim,3))\n",
        "cnn =Sequential([resnet])\n",
        "cnn.add(Conv2D(64,(2,2),strides=(1,1)))\n",
        "cnn.add(Flatten())\n",
        "lstm_model = Sequential()\n",
        "lstm_model.add(TimeDistributed(cnn,input_shape=(no_of_frames,*image_resize_dim,3)))\n",
        "lstm_model.add(LSTM(32,return_sequences=True))\n",
        "lstm_model.add(LSTM(32))\n",
        "lstm_model.add(Dense(5,activation='softmax'))\n",
        "optimiser = optimizers.SGD() \n",
        "LR = ReduceLROnPlateau(monitor='val_loss', factor=0.3,\n",
        "                            patience= 2, min_lr=0.002)\n",
        "lstm_model.compile(optimizer=optimiser, loss='categorical_crossentropy', metrics=['categorical_accuracy'])\n",
        "print (lstm_model.summary())\n",
        "\n",
        "lstm_model.fit(train_generator, steps_per_epoch=steps_per_epoch, epochs=20, verbose=1, \n",
        "                  callbacks=[ LR], validation_data=val_generator, \n",
        "                    validation_steps=validation_steps, class_weight=None, workers=1, initial_epoch=0)"
      ],
      "metadata": {
        "id": "wCllha7Z56Ij",
        "colab": {
          "base_uri": "https://localhost:8080/"
        },
        "outputId": "c3ff68ee-415f-4663-977d-f4cb8a830d4b"
      },
      "execution_count": 28,
      "outputs": [
        {
          "output_type": "stream",
          "name": "stdout",
          "text": [
            "Model: \"sequential_14\"\n",
            "_________________________________________________________________\n",
            " Layer (type)                Output Shape              Param #   \n",
            "=================================================================\n",
            " time_distributed_5 (TimeDis  (None, 9, 576)           24112064  \n",
            " tributed)                                                       \n",
            "                                                                 \n",
            " lstm_4 (LSTM)               (None, 9, 32)             77952     \n",
            "                                                                 \n",
            " lstm_5 (LSTM)               (None, 32)                8320      \n",
            "                                                                 \n",
            " dense_11 (Dense)            (None, 5)                 165       \n",
            "                                                                 \n",
            "=================================================================\n",
            "Total params: 24,198,501\n",
            "Trainable params: 24,145,381\n",
            "Non-trainable params: 53,120\n",
            "_________________________________________________________________\n",
            "None\n",
            "Source path =  Project_data/train ; batch size = 10\n",
            "Epoch 1/20\n",
            "67/67 [==============================] - ETA: 0s - loss: 1.3925 - categorical_accuracy: 0.4872Source path =  Project_data/val ; batch size = 10\n",
            "67/67 [==============================] - 34s 380ms/step - loss: 1.3925 - categorical_accuracy: 0.4872 - val_loss: 1.6764 - val_categorical_accuracy: 0.1600 - lr: 0.0100\n",
            "Epoch 2/20\n",
            "67/67 [==============================] - 24s 355ms/step - loss: 0.8237 - categorical_accuracy: 0.8688 - val_loss: 1.6616 - val_categorical_accuracy: 0.1400 - lr: 0.0100\n",
            "Epoch 3/20\n",
            "67/67 [==============================] - 25s 370ms/step - loss: 0.4865 - categorical_accuracy: 0.9472 - val_loss: 1.7213 - val_categorical_accuracy: 0.1700 - lr: 0.0100\n",
            "Epoch 4/20\n",
            "67/67 [==============================] - 25s 372ms/step - loss: 0.2629 - categorical_accuracy: 0.9864 - val_loss: 1.8393 - val_categorical_accuracy: 0.1700 - lr: 0.0100\n",
            "Epoch 5/20\n",
            "67/67 [==============================] - 25s 371ms/step - loss: 0.1731 - categorical_accuracy: 0.9985 - val_loss: 1.8160 - val_categorical_accuracy: 0.2300 - lr: 0.0030\n",
            "Epoch 6/20\n",
            "67/67 [==============================] - 25s 368ms/step - loss: 0.1510 - categorical_accuracy: 0.9985 - val_loss: 1.7437 - val_categorical_accuracy: 0.3700 - lr: 0.0030\n",
            "Epoch 7/20\n",
            "67/67 [==============================] - 25s 377ms/step - loss: 0.1329 - categorical_accuracy: 1.0000 - val_loss: 1.1509 - val_categorical_accuracy: 0.5700 - lr: 0.0020\n",
            "Epoch 8/20\n",
            "67/67 [==============================] - 25s 369ms/step - loss: 0.1269 - categorical_accuracy: 0.9985 - val_loss: 0.6913 - val_categorical_accuracy: 0.7600 - lr: 0.0020\n",
            "Epoch 9/20\n",
            "67/67 [==============================] - 25s 370ms/step - loss: 0.1193 - categorical_accuracy: 1.0000 - val_loss: 0.3199 - val_categorical_accuracy: 0.9400 - lr: 0.0020\n",
            "Epoch 10/20\n",
            "67/67 [==============================] - 25s 374ms/step - loss: 0.1080 - categorical_accuracy: 1.0000 - val_loss: 0.2677 - val_categorical_accuracy: 0.9600 - lr: 0.0020\n",
            "Epoch 11/20\n",
            "67/67 [==============================] - 25s 369ms/step - loss: 0.1010 - categorical_accuracy: 1.0000 - val_loss: 0.2789 - val_categorical_accuracy: 0.9400 - lr: 0.0020\n",
            "Epoch 12/20\n",
            "67/67 [==============================] - 25s 370ms/step - loss: 0.0975 - categorical_accuracy: 1.0000 - val_loss: 0.3007 - val_categorical_accuracy: 0.9200 - lr: 0.0020\n",
            "Epoch 13/20\n",
            "67/67 [==============================] - 25s 371ms/step - loss: 0.0917 - categorical_accuracy: 1.0000 - val_loss: 0.2459 - val_categorical_accuracy: 0.9500 - lr: 0.0020\n",
            "Epoch 14/20\n",
            "67/67 [==============================] - 25s 374ms/step - loss: 0.0912 - categorical_accuracy: 0.9985 - val_loss: 0.2238 - val_categorical_accuracy: 0.9700 - lr: 0.0020\n",
            "Epoch 15/20\n",
            "67/67 [==============================] - 25s 371ms/step - loss: 0.0849 - categorical_accuracy: 1.0000 - val_loss: 0.2696 - val_categorical_accuracy: 0.9400 - lr: 0.0020\n",
            "Epoch 16/20\n",
            "67/67 [==============================] - 26s 382ms/step - loss: 0.0806 - categorical_accuracy: 1.0000 - val_loss: 0.2341 - val_categorical_accuracy: 0.9500 - lr: 0.0020\n",
            "Epoch 17/20\n",
            "67/67 [==============================] - 25s 369ms/step - loss: 0.0767 - categorical_accuracy: 1.0000 - val_loss: 0.2546 - val_categorical_accuracy: 0.9600 - lr: 0.0020\n",
            "Epoch 18/20\n",
            "67/67 [==============================] - 25s 369ms/step - loss: 0.0731 - categorical_accuracy: 1.0000 - val_loss: 0.2410 - val_categorical_accuracy: 0.9400 - lr: 0.0020\n",
            "Epoch 19/20\n",
            "67/67 [==============================] - 25s 373ms/step - loss: 0.0718 - categorical_accuracy: 1.0000 - val_loss: 0.2378 - val_categorical_accuracy: 0.9500 - lr: 0.0020\n",
            "Epoch 20/20\n",
            "67/67 [==============================] - 25s 371ms/step - loss: 0.0707 - categorical_accuracy: 1.0000 - val_loss: 0.2477 - val_categorical_accuracy: 0.9200 - lr: 0.0020\n"
          ]
        },
        {
          "output_type": "execute_result",
          "data": {
            "text/plain": [
              "<keras.callbacks.History at 0x7f362aed7410>"
            ]
          },
          "metadata": {},
          "execution_count": 28
        }
      ]
    },
    {
      "cell_type": "markdown",
      "source": [
        "## Model 6: GRU"
      ],
      "metadata": {
        "id": "iw5wtlKuZMcQ"
      }
    },
    {
      "cell_type": "code",
      "source": [
        "image_resize_dim=(100,100)\n",
        "batch_size = 10\n",
        "img_idx = np.append(np.arange(0,30,step=4),29) \n",
        "train_generator = generator(train_path, train_doc, batch_size,image_resize_dim, img_idx, 'yes')\n",
        "val_generator = generator(val_path, val_doc, batch_size,image_resize_dim, img_idx,'yes')\n",
        "steps_per_epoch, validation_steps = get_steps_per_epoch(batch_size)\n",
        "\n",
        "resnet = ResNet50(include_top=False,weights='imagenet',input_shape=(*image_resize_dim,3))\n",
        "cnn =Sequential([resnet])\n",
        "cnn.add(Conv2D(64,(2,2),strides=(1,1)))\n",
        "cnn.add(Flatten())\n",
        "gru_model = Sequential()\n",
        "gru_model.add(TimeDistributed(cnn,input_shape=(no_of_frames,*image_resize_dim,3)))\n",
        "gru_model.add(GRU(32,return_sequences=True))\n",
        "gru_model.add(GRU(32))\n",
        "gru_model.add(Dense(5,activation='softmax'))\n",
        "optimiser = optimizers.SGD(learning_rate=0.008) \n",
        "LR = ReduceLROnPlateau(monitor='val_loss', factor=0.3,\n",
        "                            patience= 2, min_lr=0.002)\n",
        "gru_model.compile(optimizer=optimiser, loss='categorical_crossentropy', metrics=['categorical_accuracy'])\n",
        "print (gru_model.summary())\n",
        "\n",
        "gru_model.fit(train_generator, steps_per_epoch=steps_per_epoch, epochs=20, verbose=1, \n",
        "                  callbacks=[ LR], validation_data=val_generator, \n",
        "                    validation_steps=validation_steps, class_weight=None, workers=1, initial_epoch=0)"
      ],
      "metadata": {
        "colab": {
          "base_uri": "https://localhost:8080/"
        },
        "id": "QHq2EGbbZOgO",
        "outputId": "b9bfab75-faf7-40c1-b95a-c73933bd1246"
      },
      "execution_count": 29,
      "outputs": [
        {
          "output_type": "stream",
          "name": "stdout",
          "text": [
            "Model: \"sequential_16\"\n",
            "_________________________________________________________________\n",
            " Layer (type)                Output Shape              Param #   \n",
            "=================================================================\n",
            " time_distributed_6 (TimeDis  (None, 9, 576)           24112064  \n",
            " tributed)                                                       \n",
            "                                                                 \n",
            " gru_2 (GRU)                 (None, 9, 32)             58560     \n",
            "                                                                 \n",
            " gru_3 (GRU)                 (None, 32)                6336      \n",
            "                                                                 \n",
            " dense_12 (Dense)            (None, 5)                 165       \n",
            "                                                                 \n",
            "=================================================================\n",
            "Total params: 24,177,125\n",
            "Trainable params: 24,124,005\n",
            "Non-trainable params: 53,120\n",
            "_________________________________________________________________\n",
            "None\n",
            "Source path =  Project_data/train ; batch size = 10\n",
            "Epoch 1/20\n",
            "67/67 [==============================] - ETA: 0s - loss: 1.0054 - categorical_accuracy: 0.6501Source path =  Project_data/val ; batch size = 10\n",
            "67/67 [==============================] - 35s 407ms/step - loss: 1.0054 - categorical_accuracy: 0.6501 - val_loss: 1.8225 - val_categorical_accuracy: 0.2200 - lr: 0.0080\n",
            "Epoch 2/20\n",
            "67/67 [==============================] - 25s 372ms/step - loss: 0.3144 - categorical_accuracy: 0.9623 - val_loss: 2.0465 - val_categorical_accuracy: 0.2000 - lr: 0.0080\n",
            "Epoch 3/20\n",
            "67/67 [==============================] - 25s 368ms/step - loss: 0.1343 - categorical_accuracy: 1.0000 - val_loss: 2.1742 - val_categorical_accuracy: 0.1500 - lr: 0.0080\n",
            "Epoch 4/20\n",
            "67/67 [==============================] - 25s 372ms/step - loss: 0.0962 - categorical_accuracy: 0.9985 - val_loss: 2.0726 - val_categorical_accuracy: 0.2200 - lr: 0.0024\n",
            "Epoch 5/20\n",
            "67/67 [==============================] - 25s 371ms/step - loss: 0.0920 - categorical_accuracy: 0.9970 - val_loss: 2.1936 - val_categorical_accuracy: 0.2100 - lr: 0.0024\n",
            "Epoch 6/20\n",
            "67/67 [==============================] - 25s 373ms/step - loss: 0.0812 - categorical_accuracy: 0.9985 - val_loss: 1.8915 - val_categorical_accuracy: 0.3900 - lr: 0.0020\n",
            "Epoch 7/20\n",
            "67/67 [==============================] - 24s 366ms/step - loss: 0.0722 - categorical_accuracy: 1.0000 - val_loss: 1.2740 - val_categorical_accuracy: 0.5900 - lr: 0.0020\n",
            "Epoch 8/20\n",
            "67/67 [==============================] - 25s 375ms/step - loss: 0.0660 - categorical_accuracy: 1.0000 - val_loss: 0.5146 - val_categorical_accuracy: 0.8200 - lr: 0.0020\n",
            "Epoch 9/20\n",
            "67/67 [==============================] - 25s 370ms/step - loss: 0.0617 - categorical_accuracy: 1.0000 - val_loss: 0.2628 - val_categorical_accuracy: 0.9100 - lr: 0.0020\n",
            "Epoch 10/20\n",
            "67/67 [==============================] - 25s 381ms/step - loss: 0.0612 - categorical_accuracy: 1.0000 - val_loss: 0.2806 - val_categorical_accuracy: 0.9100 - lr: 0.0020\n",
            "Epoch 11/20\n",
            "67/67 [==============================] - 25s 368ms/step - loss: 0.0555 - categorical_accuracy: 1.0000 - val_loss: 0.2631 - val_categorical_accuracy: 0.9100 - lr: 0.0020\n",
            "Epoch 12/20\n",
            "67/67 [==============================] - 25s 372ms/step - loss: 0.0529 - categorical_accuracy: 1.0000 - val_loss: 0.2547 - val_categorical_accuracy: 0.9200 - lr: 0.0020\n",
            "Epoch 13/20\n",
            "67/67 [==============================] - 25s 376ms/step - loss: 0.0488 - categorical_accuracy: 1.0000 - val_loss: 0.2597 - val_categorical_accuracy: 0.9100 - lr: 0.0020\n",
            "Epoch 14/20\n",
            "67/67 [==============================] - 25s 370ms/step - loss: 0.0489 - categorical_accuracy: 1.0000 - val_loss: 0.3021 - val_categorical_accuracy: 0.8900 - lr: 0.0020\n",
            "Epoch 15/20\n",
            "67/67 [==============================] - 25s 372ms/step - loss: 0.0467 - categorical_accuracy: 1.0000 - val_loss: 0.2247 - val_categorical_accuracy: 0.9400 - lr: 0.0020\n",
            "Epoch 16/20\n",
            "67/67 [==============================] - 25s 371ms/step - loss: 0.0459 - categorical_accuracy: 1.0000 - val_loss: 0.2480 - val_categorical_accuracy: 0.9100 - lr: 0.0020\n",
            "Epoch 17/20\n",
            "67/67 [==============================] - 25s 376ms/step - loss: 0.0433 - categorical_accuracy: 1.0000 - val_loss: 0.1766 - val_categorical_accuracy: 0.9500 - lr: 0.0020\n",
            "Epoch 18/20\n",
            "67/67 [==============================] - 25s 369ms/step - loss: 0.0402 - categorical_accuracy: 1.0000 - val_loss: 0.2159 - val_categorical_accuracy: 0.9100 - lr: 0.0020\n",
            "Epoch 19/20\n",
            "67/67 [==============================] - 26s 382ms/step - loss: 0.0414 - categorical_accuracy: 0.9985 - val_loss: 0.3462 - val_categorical_accuracy: 0.9200 - lr: 0.0020\n",
            "Epoch 20/20\n",
            "67/67 [==============================] - 25s 371ms/step - loss: 0.0380 - categorical_accuracy: 1.0000 - val_loss: 0.2632 - val_categorical_accuracy: 0.9100 - lr: 0.0020\n"
          ]
        },
        {
          "output_type": "execute_result",
          "data": {
            "text/plain": [
              "<keras.callbacks.History at 0x7f36284e1190>"
            ]
          },
          "metadata": {},
          "execution_count": 29
        }
      ]
    },
    {
      "cell_type": "markdown",
      "source": [
        "# Final Model"
      ],
      "metadata": {
        "id": "VAUuhV7JQXD8"
      }
    },
    {
      "cell_type": "code",
      "source": [
        "image_resize_dim=(100,100)\n",
        "batch_size = 10\n",
        "img_idx = np.append(np.arange(0,30,step=4),29) \n",
        "train_generator = generator(train_path, train_doc, batch_size,image_resize_dim, img_idx, 'yes')\n",
        "val_generator = generator(val_path, val_doc, batch_size,image_resize_dim, img_idx,'yes')\n",
        "steps_per_epoch, validation_steps = get_steps_per_epoch(batch_size)\n",
        "\n",
        "resnet = ResNet50(include_top=False,weights='imagenet',input_shape=(*image_resize_dim,3))\n",
        "cnn =Sequential([resnet])\n",
        "cnn.add(Conv2D(64,(2,2),strides=(1,1)))\n",
        "cnn.add(Flatten())\n",
        "rnn_model = Sequential()\n",
        "rnn_model.add(TimeDistributed(cnn,input_shape=(no_of_frames,*image_resize_dim,3)))\n",
        "rnn_model.add(SimpleRNN(32,return_sequences=True))\n",
        "rnn_model.add(SimpleRNN(32))\n",
        "rnn_model.add(Dense(5,activation='softmax'))\n",
        "optimiser = optimizers.SGD() \n",
        "LR = ReduceLROnPlateau(monitor='val_loss', factor=0.3,\n",
        "                            patience= 2, min_lr=0.002)\n",
        "rnn_model.compile(optimizer=optimiser, loss='categorical_crossentropy', metrics=['categorical_accuracy'])\n",
        "print (rnn_model.summary())\n",
        "\n",
        "rnn_model.fit(train_generator, steps_per_epoch=steps_per_epoch, epochs=20, verbose=1, \n",
        "                  callbacks=[ checkpoint,LR], validation_data=val_generator, \n",
        "                    validation_steps=validation_steps, class_weight=None, workers=1, initial_epoch=0)"
      ],
      "metadata": {
        "colab": {
          "base_uri": "https://localhost:8080/"
        },
        "id": "XxzfUT0qQe4U",
        "outputId": "e6acd164-fe6e-4119-8be9-e99560d717b4"
      },
      "execution_count": 30,
      "outputs": [
        {
          "output_type": "stream",
          "name": "stdout",
          "text": [
            "Model: \"sequential_18\"\n",
            "_________________________________________________________________\n",
            " Layer (type)                Output Shape              Param #   \n",
            "=================================================================\n",
            " time_distributed_7 (TimeDis  (None, 9, 576)           24112064  \n",
            " tributed)                                                       \n",
            "                                                                 \n",
            " simple_rnn_4 (SimpleRNN)    (None, 9, 32)             19488     \n",
            "                                                                 \n",
            " simple_rnn_5 (SimpleRNN)    (None, 32)                2080      \n",
            "                                                                 \n",
            " dense_13 (Dense)            (None, 5)                 165       \n",
            "                                                                 \n",
            "=================================================================\n",
            "Total params: 24,133,797\n",
            "Trainable params: 24,080,677\n",
            "Non-trainable params: 53,120\n",
            "_________________________________________________________________\n",
            "None\n",
            "Source path =  Project_data/train ; batch size = 10\n",
            "Epoch 1/20\n",
            "67/67 [==============================] - ETA: 0s - loss: 1.1646 - categorical_accuracy: 0.5626Source path =  Project_data/val ; batch size = 10\n",
            "\n",
            "Epoch 1: saving model to model_init_2022-11-1316_37_34.554833/model-00001-1.16462-0.56259-1.81702-0.22000.h5\n",
            "67/67 [==============================] - 35s 411ms/step - loss: 1.1646 - categorical_accuracy: 0.5626 - val_loss: 1.8170 - val_categorical_accuracy: 0.2200 - lr: 0.0100\n",
            "Epoch 2/20\n",
            "67/67 [==============================] - ETA: 0s - loss: 0.4329 - categorical_accuracy: 0.8944\n",
            "Epoch 2: saving model to model_init_2022-11-1316_37_34.554833/model-00002-0.43295-0.89442-2.47422-0.21000.h5\n",
            "67/67 [==============================] - 26s 382ms/step - loss: 0.4329 - categorical_accuracy: 0.8944 - val_loss: 2.4742 - val_categorical_accuracy: 0.2100 - lr: 0.0100\n",
            "Epoch 3/20\n",
            "67/67 [==============================] - ETA: 0s - loss: 0.2040 - categorical_accuracy: 0.9608\n",
            "Epoch 3: saving model to model_init_2022-11-1316_37_34.554833/model-00003-0.20397-0.96078-2.25339-0.24000.h5\n",
            "67/67 [==============================] - 26s 390ms/step - loss: 0.2040 - categorical_accuracy: 0.9608 - val_loss: 2.2534 - val_categorical_accuracy: 0.2400 - lr: 0.0100\n",
            "Epoch 4/20\n",
            "67/67 [==============================] - ETA: 0s - loss: 0.1205 - categorical_accuracy: 0.9849\n",
            "Epoch 4: saving model to model_init_2022-11-1316_37_34.554833/model-00004-0.12052-0.98492-2.06633-0.31000.h5\n",
            "67/67 [==============================] - 25s 379ms/step - loss: 0.1205 - categorical_accuracy: 0.9849 - val_loss: 2.0663 - val_categorical_accuracy: 0.3100 - lr: 0.0030\n",
            "Epoch 5/20\n",
            "67/67 [==============================] - ETA: 0s - loss: 0.0721 - categorical_accuracy: 0.9970\n",
            "Epoch 5: saving model to model_init_2022-11-1316_37_34.554833/model-00005-0.07213-0.99698-2.00545-0.27000.h5\n",
            "67/67 [==============================] - 26s 389ms/step - loss: 0.0721 - categorical_accuracy: 0.9970 - val_loss: 2.0054 - val_categorical_accuracy: 0.2700 - lr: 0.0030\n",
            "Epoch 6/20\n",
            "67/67 [==============================] - ETA: 0s - loss: 0.0591 - categorical_accuracy: 1.0000\n",
            "Epoch 6: saving model to model_init_2022-11-1316_37_34.554833/model-00006-0.05906-1.00000-1.22553-0.51000.h5\n",
            "67/67 [==============================] - 26s 387ms/step - loss: 0.0591 - categorical_accuracy: 1.0000 - val_loss: 1.2255 - val_categorical_accuracy: 0.5100 - lr: 0.0020\n",
            "Epoch 7/20\n",
            "67/67 [==============================] - ETA: 0s - loss: 0.0584 - categorical_accuracy: 0.9955\n",
            "Epoch 7: saving model to model_init_2022-11-1316_37_34.554833/model-00007-0.05842-0.99548-0.59848-0.80000.h5\n",
            "67/67 [==============================] - 26s 393ms/step - loss: 0.0584 - categorical_accuracy: 0.9955 - val_loss: 0.5985 - val_categorical_accuracy: 0.8000 - lr: 0.0020\n",
            "Epoch 8/20\n",
            "67/67 [==============================] - ETA: 0s - loss: 0.0560 - categorical_accuracy: 0.9985\n",
            "Epoch 8: saving model to model_init_2022-11-1316_37_34.554833/model-00008-0.05595-0.99849-0.44489-0.86000.h5\n",
            "67/67 [==============================] - 25s 380ms/step - loss: 0.0560 - categorical_accuracy: 0.9985 - val_loss: 0.4449 - val_categorical_accuracy: 0.8600 - lr: 0.0020\n",
            "Epoch 9/20\n",
            "67/67 [==============================] - ETA: 0s - loss: 0.0491 - categorical_accuracy: 0.9985\n",
            "Epoch 9: saving model to model_init_2022-11-1316_37_34.554833/model-00009-0.04906-0.99849-0.18493-0.95000.h5\n",
            "67/67 [==============================] - 26s 389ms/step - loss: 0.0491 - categorical_accuracy: 0.9985 - val_loss: 0.1849 - val_categorical_accuracy: 0.9500 - lr: 0.0020\n",
            "Epoch 10/20\n",
            "67/67 [==============================] - ETA: 0s - loss: 0.0449 - categorical_accuracy: 0.9985\n",
            "Epoch 10: saving model to model_init_2022-11-1316_37_34.554833/model-00010-0.04488-0.99849-0.16927-0.94000.h5\n",
            "67/67 [==============================] - 26s 382ms/step - loss: 0.0449 - categorical_accuracy: 0.9985 - val_loss: 0.1693 - val_categorical_accuracy: 0.9400 - lr: 0.0020\n",
            "Epoch 11/20\n",
            "67/67 [==============================] - ETA: 0s - loss: 0.0458 - categorical_accuracy: 0.9970\n",
            "Epoch 11: saving model to model_init_2022-11-1316_37_34.554833/model-00011-0.04579-0.99698-0.17865-0.94000.h5\n",
            "67/67 [==============================] - 26s 386ms/step - loss: 0.0458 - categorical_accuracy: 0.9970 - val_loss: 0.1787 - val_categorical_accuracy: 0.9400 - lr: 0.0020\n",
            "Epoch 12/20\n",
            "67/67 [==============================] - ETA: 0s - loss: 0.0376 - categorical_accuracy: 1.0000\n",
            "Epoch 12: saving model to model_init_2022-11-1316_37_34.554833/model-00012-0.03760-1.00000-0.16939-0.94000.h5\n",
            "67/67 [==============================] - 26s 383ms/step - loss: 0.0376 - categorical_accuracy: 1.0000 - val_loss: 0.1694 - val_categorical_accuracy: 0.9400 - lr: 0.0020\n",
            "Epoch 13/20\n",
            "67/67 [==============================] - ETA: 0s - loss: 0.0421 - categorical_accuracy: 0.9970\n",
            "Epoch 13: saving model to model_init_2022-11-1316_37_34.554833/model-00013-0.04211-0.99698-0.16632-0.94000.h5\n",
            "67/67 [==============================] - 26s 387ms/step - loss: 0.0421 - categorical_accuracy: 0.9970 - val_loss: 0.1663 - val_categorical_accuracy: 0.9400 - lr: 0.0020\n",
            "Epoch 14/20\n",
            "67/67 [==============================] - ETA: 0s - loss: 0.0349 - categorical_accuracy: 1.0000\n",
            "Epoch 14: saving model to model_init_2022-11-1316_37_34.554833/model-00014-0.03489-1.00000-0.10710-0.97000.h5\n",
            "67/67 [==============================] - 26s 383ms/step - loss: 0.0349 - categorical_accuracy: 1.0000 - val_loss: 0.1071 - val_categorical_accuracy: 0.9700 - lr: 0.0020\n",
            "Epoch 15/20\n",
            "67/67 [==============================] - ETA: 0s - loss: 0.0371 - categorical_accuracy: 0.9985\n",
            "Epoch 15: saving model to model_init_2022-11-1316_37_34.554833/model-00015-0.03709-0.99849-0.20439-0.92000.h5\n",
            "67/67 [==============================] - 26s 396ms/step - loss: 0.0371 - categorical_accuracy: 0.9985 - val_loss: 0.2044 - val_categorical_accuracy: 0.9200 - lr: 0.0020\n",
            "Epoch 16/20\n",
            "67/67 [==============================] - ETA: 0s - loss: 0.0332 - categorical_accuracy: 1.0000\n",
            "Epoch 16: saving model to model_init_2022-11-1316_37_34.554833/model-00016-0.03318-1.00000-0.12715-0.95000.h5\n",
            "67/67 [==============================] - 25s 380ms/step - loss: 0.0332 - categorical_accuracy: 1.0000 - val_loss: 0.1272 - val_categorical_accuracy: 0.9500 - lr: 0.0020\n",
            "Epoch 17/20\n",
            "67/67 [==============================] - ETA: 0s - loss: 0.0318 - categorical_accuracy: 1.0000\n",
            "Epoch 17: saving model to model_init_2022-11-1316_37_34.554833/model-00017-0.03182-1.00000-0.13229-0.95000.h5\n",
            "67/67 [==============================] - 26s 383ms/step - loss: 0.0318 - categorical_accuracy: 1.0000 - val_loss: 0.1323 - val_categorical_accuracy: 0.9500 - lr: 0.0020\n",
            "Epoch 18/20\n",
            "67/67 [==============================] - ETA: 0s - loss: 0.0300 - categorical_accuracy: 1.0000\n",
            "Epoch 18: saving model to model_init_2022-11-1316_37_34.554833/model-00018-0.02997-1.00000-0.19566-0.91000.h5\n",
            "67/67 [==============================] - 26s 388ms/step - loss: 0.0300 - categorical_accuracy: 1.0000 - val_loss: 0.1957 - val_categorical_accuracy: 0.9100 - lr: 0.0020\n",
            "Epoch 19/20\n",
            "67/67 [==============================] - ETA: 0s - loss: 0.0303 - categorical_accuracy: 1.0000\n",
            "Epoch 19: saving model to model_init_2022-11-1316_37_34.554833/model-00019-0.03031-1.00000-0.13764-0.95000.h5\n",
            "67/67 [==============================] - 26s 382ms/step - loss: 0.0303 - categorical_accuracy: 1.0000 - val_loss: 0.1376 - val_categorical_accuracy: 0.9500 - lr: 0.0020\n",
            "Epoch 20/20\n",
            "67/67 [==============================] - ETA: 0s - loss: 0.0301 - categorical_accuracy: 0.9985\n",
            "Epoch 20: saving model to model_init_2022-11-1316_37_34.554833/model-00020-0.03013-0.99849-0.14982-0.95000.h5\n",
            "67/67 [==============================] - 26s 389ms/step - loss: 0.0301 - categorical_accuracy: 0.9985 - val_loss: 0.1498 - val_categorical_accuracy: 0.9500 - lr: 0.0020\n"
          ]
        },
        {
          "output_type": "execute_result",
          "data": {
            "text/plain": [
              "<keras.callbacks.History at 0x7f36252ca610>"
            ]
          },
          "metadata": {},
          "execution_count": 30
        }
      ]
    }
  ],
  "metadata": {
    "accelerator": "GPU",
    "colab": {
      "provenance": [],
      "collapsed_sections": []
    },
    "gpuClass": "standard",
    "kernelspec": {
      "display_name": "Python 3",
      "language": "python",
      "name": "python3"
    },
    "language_info": {
      "codemirror_mode": {
        "name": "ipython",
        "version": 3
      },
      "file_extension": ".py",
      "mimetype": "text/x-python",
      "name": "python",
      "nbconvert_exporter": "python",
      "pygments_lexer": "ipython3",
      "version": "3.6.5"
    }
  },
  "nbformat": 4,
  "nbformat_minor": 0
}